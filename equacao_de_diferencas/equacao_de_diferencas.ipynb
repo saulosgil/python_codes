{
 "cells": [
  {
   "cell_type": "markdown",
   "id": "df7dc671",
   "metadata": {},
   "source": [
    "# Exemplo de equação de diferenças simples"
   ]
  },
  {
   "cell_type": "markdown",
   "id": "fc8430e7",
   "metadata": {},
   "source": [
    "**Problema: Economizando dinheiro semanalmente**\n",
    "\n",
    "Imagine que você quer guardar R$ 10,00 por semana em um cofrinho.\n",
    "\n",
    "Queremos descrever quanto dinheiro você terá ao longo das semanas.\n",
    "\n",
    "A equação que descreve o problema é: \n",
    "\n",
    "$S_{n+1} = S_n + 10$\n"
   ]
  },
  {
   "cell_type": "code",
   "execution_count": 18,
   "id": "6abe9d03",
   "metadata": {},
   "outputs": [],
   "source": [
    "# Exemplo de equação de diferenças simples\n",
    "# Situação: economizando R$10,00 por semana\n",
    "\n",
    "# Parâmetros\n",
    "S0 = 0          # valor inicial no cofrinho\n",
    "deposito = 10   # valor depositado por semana\n",
    "semanas = 10    # número total de semanas\n",
    "\n",
    "# Lista para armazenar os valores semana a semana\n",
    "valores = []\n",
    "\n",
    "# Calculando os valores\n",
    "S = S0\n",
    "for n in range(semanas + 1):  # inclui a semana 0\n",
    "    valores.append((n, S))\n",
    "    S = S + deposito  # Equação de diferenças: S_{n+1} = S_n + 10"
   ]
  },
  {
   "cell_type": "code",
   "execution_count": 19,
   "id": "54633201",
   "metadata": {},
   "outputs": [
    {
     "name": "stdout",
     "output_type": "stream",
     "text": [
      "Semana 0: R$ 0.00\n",
      "Semana 1: R$ 10.00\n",
      "Semana 2: R$ 20.00\n",
      "Semana 3: R$ 30.00\n",
      "Semana 4: R$ 40.00\n",
      "Semana 5: R$ 50.00\n",
      "Semana 6: R$ 60.00\n",
      "Semana 7: R$ 70.00\n",
      "Semana 8: R$ 80.00\n",
      "Semana 9: R$ 90.00\n",
      "Semana 10: R$ 100.00\n"
     ]
    }
   ],
   "source": [
    "# Exibindo os resultados\n",
    "for semana, valor in valores:\n",
    "    print(f\"Semana {semana}: R$ {valor:.2f}\")\n"
   ]
  }
 ],
 "metadata": {
  "kernelspec": {
   "display_name": "Python 3",
   "language": "python",
   "name": "python3"
  },
  "language_info": {
   "codemirror_mode": {
    "name": "ipython",
    "version": 3
   },
   "file_extension": ".py",
   "mimetype": "text/x-python",
   "name": "python",
   "nbconvert_exporter": "python",
   "pygments_lexer": "ipython3",
   "version": "3.12.2"
  }
 },
 "nbformat": 4,
 "nbformat_minor": 5
}
